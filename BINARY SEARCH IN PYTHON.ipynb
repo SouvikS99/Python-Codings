{
 "cells": [
  {
   "cell_type": "markdown",
   "metadata": {},
   "source": [
    "BINARY SEARCHING"
   ]
  },
  {
   "cell_type": "code",
   "execution_count": 23,
   "metadata": {},
   "outputs": [
    {
     "name": "stdout",
     "output_type": "stream",
     "text": [
      "Enter number of integers to store : 5\n",
      "22\n",
      "33\n",
      "11\n",
      "55\n",
      "44\n",
      "The entered numbers are : \n",
      "[22, 33, 11, 55, 44]\n",
      "The sorted list is : \n",
      "[11, 22, 33, 44, 55]\n",
      "Enter number to search : 33\n",
      "Number 33 found at position 3\n"
     ]
    }
   ],
   "source": [
    "def binary_search(l, num_find):\n",
    "    \n",
    "    start = 0\n",
    "    end = len(l) - 1\n",
    "    mid = (start + end) // 2\n",
    "    \n",
    "   \n",
    "    found = False\n",
    "    position = -1\n",
    "\n",
    "    while start <= end:\n",
    "        if l[mid] == num_find:\n",
    "            found = True\n",
    "            position = mid\n",
    "            break\n",
    "        \n",
    "        if num_find > l[mid]:\n",
    "            start = mid + 1\n",
    "            mid = (start + end) // 2\n",
    "        else:\n",
    "            end = mid - 1\n",
    "            mid = (start + end) // 2\n",
    "\n",
    "    return (found, position)\n",
    "\n",
    "    \n",
    "if __name__=='__main__':\n",
    "#creating list   \n",
    "    x=int(input(\"Enter number of integers to store : \"))\n",
    "    l = []\n",
    "    for i in range(0,n):\n",
    "        ele = int(input())\n",
    "        l.append(ele)\n",
    "    print(\"The entered numbers are : \")\n",
    "    print(l)\n",
    "    #sorting the list\n",
    "    l.sort()  \n",
    "    print(\"The sorted list is : \")\n",
    "    print(l)\n",
    "    num = int(input(\"Enter number to search : \"))\n",
    "    found = binary_search(l, num)\n",
    "    if found[0]:\n",
    "        print('Number %d found at position %d'%(num, found[1]+1))\n",
    "    else:\n",
    "        print('Number %d not found'%num)"
   ]
  },
  {
   "cell_type": "code",
   "execution_count": null,
   "metadata": {},
   "outputs": [],
   "source": []
  }
 ],
 "metadata": {
  "kernelspec": {
   "display_name": "Python 3",
   "language": "python",
   "name": "python3"
  },
  "language_info": {
   "codemirror_mode": {
    "name": "ipython",
    "version": 3
   },
   "file_extension": ".py",
   "mimetype": "text/x-python",
   "name": "python",
   "nbconvert_exporter": "python",
   "pygments_lexer": "ipython3",
   "version": "3.7.6"
  }
 },
 "nbformat": 4,
 "nbformat_minor": 4
}
